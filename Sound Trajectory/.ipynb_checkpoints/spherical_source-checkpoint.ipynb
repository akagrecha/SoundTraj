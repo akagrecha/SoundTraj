{
 "cells": [
  {
   "cell_type": "markdown",
   "metadata": {
    "deletable": true,
    "editable": true
   },
   "source": [
    "# SoundTraj\n",
    "Ever thought what a source would sound like, if it was moving along a circle or an ellipse or any other trajectory?\n",
    "Well, the following code is an attempt to simulate a situation similar to this. \n",
    "\n",
    "On giving a trajectory and sound file, the code generates an animation showing the trajectory of the source and how it will sound to a listener, according to its position.\n",
    "\n",
    "To model the situation we used following two effects - \n",
    "<ol>\n",
    "<li>On listening to a source, there is a finite delay between sound received by our two ears.</li>\n",
    "<li>The amplitudes received by our ears also change.</li>\n",
    "</ol>\n",
    "\n",
    "<code>\n",
    "---amplitude modification in first channel output\n",
    "output[:,0] = np.divide(input1, r1)                     \n",
    "    \n",
    "---amplitude modification & delay in second channel\n",
    "for i in range(max_delay, size_in - max_delay):\n",
    "    output[i][1] = input1[i + int(delay[i])]/r2[i + int(delay[i])]    \n",
    "</code>\n",
    "\n",
    "We have also included two examples to demonstrate this effect.\n",
    "<ol>\n",
    "<li> Trajectory is a circle of radius 10. The sound is of a jet engine.</li>\n",
    "<li> Trajectory is a line parallel to x-axis with y = 10. The sound is of a jet engine</li>\n",
    "</ol>"
   ]
  },
  {
   "cell_type": "code",
   "execution_count": 2,
   "metadata": {
    "collapsed": true,
    "deletable": true,
    "editable": true
   },
   "outputs": [],
   "source": [
    "import scipy.io.wavfile as sciw\n",
    "import numpy as np\n",
    "import matplotlib.pyplot as plt\n",
    "from matplotlib import animation\n",
    "import os\n",
    "import sys"
   ]
  },
  {
   "cell_type": "code",
   "execution_count": 3,
   "metadata": {
    "collapsed": false,
    "deletable": true,
    "editable": true
   },
   "outputs": [
    {
     "name": "stdout",
     "output_type": "stream",
     "text": [
      "Distance between two ears (in cm)20\n"
     ]
    }
   ],
   "source": [
    "fi = sciw.read(\"Test.wav\")\n",
    "first_channel = fi[1][:,0]\n",
    "second_channel = fi[1][:,1]\n",
    "p = float(raw_input(\"Distance between two ears (in cm)\"))/100.0"
   ]
  },
  {
   "cell_type": "markdown",
   "metadata": {
    "deletable": true,
    "editable": true
   },
   "source": [
    "## Circular Trajectory"
   ]
  },
  {
   "cell_type": "code",
   "execution_count": 26,
   "metadata": {
    "collapsed": false,
    "deletable": true,
    "editable": true
   },
   "outputs": [
    {
     "data": {
      "image/png": "[encoded data removed]",
      "text/plain": [
       "<matplotlib.figure.Figure at 0x7f7ede8bc610>"
      ]
     },
     "metadata": {},
     "output_type": "display_data"
    }
   ],
   "source": [
    "time = 10\n",
    "cartCo = np.zeros((44100*time, 2), dtype=np.float64)\n",
    "cartCo[:, 0] += 10*np.cos(np.linspace(0, 2*np.pi, 44100*time))\n",
    "cartCo[:, 1] += 10*np.sin(np.linspace(0, 2*np.pi, 44100*time))\n",
    "plt.plot(cartCo[:, 0], cartCo[:, 1])\n",
    "plt.show()"
   ]
  },
  {
   "cell_type": "markdown",
   "metadata": {
    "deletable": true,
    "editable": true
   },
   "source": [
    "## Line Trajectory"
   ]
  },
  {
   "cell_type": "code",
   "execution_count": 25,
   "metadata": {
    "collapsed": false,
    "deletable": true,
    "editable": true
   },
   "outputs": [
    {
     "data": {
      "image/png": "[encoded data removed]",
      "text/plain": [
       "<matplotlib.figure.Figure at 0x7f7ede6f44d0>"
      ]
     },
     "metadata": {},
     "output_type": "display_data"
    }
   ],
   "source": [
    "time = 10\n",
    "cartCo1 = np.zeros((44100*time, 2), dtype=np.float64)\n",
    "cartCo1[:, 0] = np.linspace(-10, 10, 44100*time)\n",
    "cartCo1[:, 1] = 10\n",
    "plt.plot(cartCo1[:,0], cartCo1[:, 1])\n",
    "plt.show()"
   ]
  },
  {
   "cell_type": "code",
   "execution_count": 27,
   "metadata": {
    "collapsed": false,
    "deletable": true,
    "editable": true
   },
   "outputs": [],
   "source": [
    "# 10 meters = 1 unit on plot when scale = 10\n",
    "def make_video(ear_coords, x_coords, y_coords, x_lim, y_lim, background_file):\n",
    "    \"\"\" Makes a video from given input with 48 frames per second, length of song in seconds = number of \n",
    "        coordinates provided / 48\n",
    "    Args:\n",
    "        ear_coords: A numpy array containg coordinate of two years [[ear_1_x, ear_2_x], \n",
    "                                                                    [ear_1_y, ear_2_y]]\n",
    "        x_coords: x coordinates of the trajectory, a numpy array \n",
    "        y_coords: y coordinates of the trajectory, a numpy array\n",
    "        x_lim: tuple of form (lower_limit, upper_limit) of x axis        \n",
    "        y_lim: tuple of form (lower_limit, upper_limit) of y axis\n",
    "        background_file: the wav file name (with extension) that contains the background to attach to video\n",
    "    Returns:\n",
    "        None\n",
    "    \"\"\"\n",
    "    \n",
    "    fig = plt.figure()\n",
    "    ax = plt.axes(xlim=x_lim, ylim=y_lim)\n",
    "    ax.set_aspect(1)\n",
    "    ax.plot(ear_coords[0], ear_coords[1], 'r.')\n",
    "    line, = ax.plot([], [], 'g^')\n",
    "    \n",
    "    fi = sciw.read(background_file)\n",
    "    sample_rate = fi[0]\n",
    "    \n",
    "    x_plot = x_coords[0:len(x_coords):int(sample_rate/48)]\n",
    "    num_of_frames = len(x_plot)\n",
    "    y_plot = y_coords[0:len(x_coords):int(sample_rate/48)]\n",
    "    \n",
    "    point = num_of_frames/100\n",
    "    increment = num_of_frames/20\n",
    "    \n",
    "    \n",
    "    def init():\n",
    "        line.set_data([], [])\n",
    "        return line,\n",
    "    def animate(i):\n",
    "        # shows the progress of operation\n",
    "        sys.stdout.write(\"\\r[\" + \"=\" * (i / increment) +  \" \" * ((num_of_frames - i)/ increment) + \"]\" +  str(i / point) + \"%\")\n",
    "        sys.stdout.flush()\n",
    "        \n",
    "        x = x_plot[i]\n",
    "        y = y_plot[i]\n",
    "        line.set_data(x, y)\n",
    "        # plt.axis('off') # To remove axes\n",
    "        return line,\n",
    "    anim = animation.FuncAnimation(fig, animate, init_func=init,\n",
    "                                   frames=num_of_frames, interval=1.0/48.0, blit=True)\n",
    "    # to remove files with same name generated earlier\n",
    "    os.system(\"rm output.mp4\")\n",
    "    os.system(\"rm output_with_background.mp4\")\n",
    "    \n",
    "    anim.save('output.mp4', fps=48, extra_args=['-vcodec', 'libx264'])\n",
    "    os.system(\"ffmpeg -i \" + background_file + \" -i output.mp4 -strict -2 -shortest -vcodec copy output_with_background.mp4\")\n",
    "    print(\"\\nTask Completed\")\n",
    "    os.system(\"rm output.mp4\")"
   ]
  },
  {
   "cell_type": "markdown",
   "metadata": {},
   "source": []
  },
  {
   "cell_type": "code",
   "execution_count": 6,
   "metadata": {
    "collapsed": true,
    "deletable": true,
    "editable": true
   },
   "outputs": [],
   "source": [
    "def cartesianToPolar(cartArray):\n",
    "    \"\"\"Function converts cartesian coordinates to polar coordinates.\n",
    "    Args:\n",
    "        cartArray: x, y coordinates, 2D numpy array\n",
    "    Returns:\n",
    "        radial_distance: radial distance of each point from origin, numpy array\n",
    "        polar_angle: polar angle in radians, numpy array\n",
    "    \"\"\"\n",
    "    compArr = cartArray[:,0] + 1j*cartArray[:,1]\n",
    "    radial_distance = np.absolute(compArr)\n",
    "    polar_angle = np.angle(compArr)\n",
    "    \n",
    "    return radial_distance, polar_angle"
   ]
  },
  {
   "cell_type": "code",
   "execution_count": 7,
   "metadata": {
    "collapsed": false,
    "deletable": true,
    "editable": true
   },
   "outputs": [],
   "source": [
    "def soundTraj(input1, trajectory, distEars):\n",
    "    \"\"\"\n",
    "    The function gives an output array for input array(song) and the trajectory of a spherical source. \n",
    "    The output is generated after amplitude modification and adding time delay to the input.\n",
    "    The function assumes that the size of trajectory is greater than the size of input array\n",
    "    \n",
    "    Args:\n",
    "        input1:a single channel audio file, numpy array\n",
    "        trajectory: x,y coordinates of trajectory, 2D numpy array\n",
    "        distEars: distance between ears, float\n",
    "    Returns:\n",
    "        output: \n",
    "    \"\"\"\n",
    "    c = 340.0 #speed of sound \n",
    "     \n",
    "    p = distEars\n",
    "    size_in = len(input1)\n",
    "    size_traj = len(trajectory)\n",
    "    \n",
    "    \n",
    "    r, theta = cartesianToPolar(trajectory)\n",
    "    cosines = np.cos(theta)\n",
    "    \n",
    "    # distance of source from each ear\n",
    "    r1 = r[:size_in] - p*cosines[:size_in]/2.0\n",
    "    r2 = r[:size_in] + p*cosines[:size_in]/2.0\n",
    "    \n",
    "    # calculating the delay\n",
    "    delay = np.round(p*cosines*fi[0]/c)\n",
    "    max_delay = int(np.max(delay))    \n",
    "    \n",
    "    # two channel output\n",
    "    output = np.zeros((size_in,2))\n",
    "    \n",
    "    # amplitude modification in first channel output\n",
    "    output[:,0] = np.divide(input1, r1)                     \n",
    "    \n",
    "    # amplitude modification & delay in second channel\n",
    "    for i in range(max_delay, size_in - max_delay):\n",
    "        output[i][1] = input1[i + int(delay[i])]/r2[i + int(delay[i])]     \n",
    "    return output"
   ]
  },
  {
   "cell_type": "code",
   "execution_count": 21,
   "metadata": {
    "collapsed": true,
    "deletable": true,
    "editable": true
   },
   "outputs": [],
   "source": [
    "def final(input_file, trajectory, distEars):\n",
    "    \"\"\"\n",
    "    This is the main function which writes the output file.\n",
    "    If the size of input file is smaller than size of trajectory, then function soundTraj is directly called.\n",
    "    If the size of input file is greater than size of trajectory, then we assume that the source oscillates\n",
    "    on the given trajectory.\n",
    "    \n",
    "    Args:\n",
    "        input_file: tuple generated by sci.io.wavfile.read\n",
    "        trajectory: x,y coordinates of trajectory, 2D numpy array\n",
    "        distEars: distance between ears\n",
    "        \n",
    "    Returns:\n",
    "        none\n",
    "    \"\"\"\n",
    "    sample_rate = input_file[0]\n",
    "    input1 = input_file[1][:,0]\n",
    "    size_in = len(input1)\n",
    "    size_traj = len(trajectory)\n",
    "    \n",
    "    # inputs for the make_video function\n",
    "    max_cord = np.amax(trajectory, axis=0)\n",
    "    min_cord = np.amin(trajectory, axis=0)\n",
    "    maxX = max(abs(max_cord[0]), abs(min_cord[0]))\n",
    "    maxY = max(abs(max_cord[1]), abs(min_cord[1]))\n",
    "    x_lim = np.array([-maxX-0.1, maxX+0.1])\n",
    "    y_lim = np.array([-maxY-0.1, maxY+0.1])\n",
    "    ear_cord = np.array([[-p/2,p/2],[0,0]])\n",
    "    \n",
    "    output = np.zeros((size_in,2))\n",
    "    \n",
    "    if size_in <= size_traj:\n",
    "        print(\"The size of trajectory is greater than the size of song.\")\n",
    "        print(\"Source moves along the path\")\n",
    "        output = soundTraj(input1, trajectory, distEars)\n",
    "        sciw.write(\"Output.wav\", sample_rate, np.int(output))\n",
    "        print(\"Audio generated.... Generating video\")\n",
    "        make_video(ear_cord, trajectory[:,0], trajectory[:,1], x_lim, y_lim, \"Output.wav\")\n",
    "    else:\n",
    "        print(\"The size of trajectory is less than the size of song.\")\n",
    "        print(\"Source oscillates along the path\")\n",
    "        x = trajectory[:,0]\n",
    "        y = trajectory[:,1]\n",
    "        half_oscillations = int(size_in/size_traj)\n",
    "        x_rev = x[::-1]\n",
    "        y_rev = y[::-1]\n",
    "        \n",
    "        x_final = np.empty(0)\n",
    "        y_final = np.empty(0)\n",
    "        for i in range(half_oscillations/2 + 1):\n",
    "            x_final = np.append(x_final, x)\n",
    "            x_final = np.append(x_final, x_rev)\n",
    "            \n",
    "            y_final = np.append(y_final, y)\n",
    "            y_final = np.append(y_final, y_rev)\n",
    "            \n",
    "        trajectory_final = np.column_stack((x_final, y_final))\n",
    "        \n",
    "        output = soundTraj(input1, trajectory_final, distEars)\n",
    "        sciw.write(\"Output.wav\", sample_rate, np.int16(output))\n",
    "        print(\"Audio generated.... Generating video\")\n",
    "        make_video(ear_cord, x_final,y_final, x_lim, y_lim, \"Output.wav\")\n",
    "    "
   ]
  },
  {
   "cell_type": "code",
   "execution_count": 9,
   "metadata": {
    "collapsed": false,
    "deletable": true,
    "editable": true
   },
   "outputs": [
    {
     "name": "stdout",
     "output_type": "stream",
     "text": [
      "The size of trajectory is less than the size of song.\n",
      "Source oscillates along the path\n",
      "Audio generated.... Generating video\n",
      "[====================]102%/nTask Completed\n"
     ]
    }
   ],
   "source": [
    "final(fi, cartCo, p)"
   ]
  },
  {
   "cell_type": "code",
   "execution_count": 22,
   "metadata": {
    "collapsed": false,
    "deletable": true,
    "editable": true
   },
   "outputs": [
    {
     "name": "stdout",
     "output_type": "stream",
     "text": [
      "The size of trajectory is less than the size of song.\n",
      "Source oscillates along the path\n",
      "Audio generated.... Generating video\n",
      "[====================]102%\n",
      "Task Completed\n"
     ]
    }
   ],
   "source": [
    "final(fi, cartCo1, p)"
   ]
  },
  {
   "cell_type": "markdown",
   "metadata": {},
   "source": [
    "$References:$\n",
    "\n",
    "1. Scipy Reading WAV file. https://docs.scipy.org/doc/scipy-0.14.0/reference/generated/scipy.io.wavfile.read.html\n",
    "2. Scipy Writing WAV file. https://docs.scipy.org/doc/scipy/reference/generated/scipy.io.wavfile.write.html \n",
    "3. What do the bytes in a WAV file represent? http://stackoverflow.com/questions/13039846/what-do-the-bytes-in-a-wav-file-represent\n",
    "4. Numpy Reference https://docs.scipy.org/doc/numpy/reference/\n",
    "5. Adding audio from wav file to mp4 file: http://stackoverflow.com/questions/9049970/how-to-combine-a-mp4-video-with-a-wav-audio-with-an-offset-in-ffmpeg-from-comm\n",
    "6. Setting aspect ratio in matplotlib: http://stackoverflow.com/questions/7965743/how-can-i-set-the-aspect-ratio-in-matplotlib\n",
    "7. Animation examples with matplotlib: https://jakevdp.github.io/blog/2012/08/18/matplotlib-animation-tutorial/\n",
    "8. Calling an external command in Python: http://stackoverflow.com/questions/89228/calling-an-external-command-in-python\n",
    "9. Creating a progress bar in Python: http://stackoverflow.com/questions/3002085/python-to-print-out-status-bar-and-percentage\n"
   ]
  },
  {
   "cell_type": "code",
   "execution_count": null,
   "metadata": {
    "collapsed": true
   },
   "outputs": [],
   "source": []
  }
 ],
 "metadata": {
  "kernelspec": {
   "display_name": "Python 2",
   "language": "python",
   "name": "python2"
  },
  "language_info": {
   "codemirror_mode": {
    "name": "ipython",
    "version": 2
   },
   "file_extension": ".py",
   "mimetype": "text/x-python",
   "name": "python",
   "nbconvert_exporter": "python",
   "pygments_lexer": "ipython2",
   "version": "2.7.12"
  }
 },
 "nbformat": 4,
 "nbformat_minor": 2
}
